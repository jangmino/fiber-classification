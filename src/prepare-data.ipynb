{
 "cells": [
  {
   "cell_type": "markdown",
   "metadata": {},
   "source": [
    "# 데이터 가공 및 준비"
   ]
  },
  {
   "cell_type": "code",
   "execution_count": 1,
   "metadata": {},
   "outputs": [],
   "source": [
    "from datasets import load_dataset, load_from_disk, DatasetDict\n",
    "import pandas as pd\n",
    "import numpy as np\n",
    "import os\n",
    "from sklearn.model_selection import StratifiedKFold\n",
    "from sklearn.preprocessing import StandardScaler, LabelEncoder\n",
    "from sklearn.metrics import accuracy_score, classification_report\n",
    "import xgboost as xgb"
   ]
  },
  {
   "cell_type": "code",
   "execution_count": 2,
   "metadata": {},
   "outputs": [],
   "source": [
    "neospectra_dir_path = '/Jupyter/dev_src/fiber-classification/local_data/NeoSpectra'\n",
    "sagitto_dir_path = '/Jupyter/dev_src/fiber-classification/local_data/Sagitto'"
   ]
  },
  {
   "cell_type": "code",
   "execution_count": 3,
   "metadata": {},
   "outputs": [],
   "source": [
    "label_idx_dic = {'CO':0, 'LI':1, 'VR':2}\n",
    "idx_label_dic = {0:'CO', 1:'LI', 2:'VR'}"
   ]
  },
  {
   "cell_type": "code",
   "execution_count": 168,
   "metadata": {},
   "outputs": [],
   "source": [
    "def load_raw_data(data_dir_path, col_len=258, is_saggitto=False, use_first_sample_only=False):\n",
    "    # 폴더 이름과 레이블로 사용할 리스트\n",
    "    labels = ['CO', 'LI', 'VR']\n",
    "\n",
    "    # 빈 리스트를 만들어서 데이터프레임을 저장할 준비\n",
    "    all_data = []\n",
    "\n",
    "    # 각 폴더를 순회\n",
    "    for label in labels:\n",
    "        folder_path = os.path.join(data_dir_path, label)\n",
    "\n",
    "        # 각 폴더 내의 CSV 파일 순회\n",
    "        for filename in os.listdir(folder_path):\n",
    "            if filename.endswith(\".csv\"):\n",
    "                file_path = os.path.join(folder_path, filename)\n",
    "\n",
    "                # CSV 파일 읽기\n",
    "                df = pd.read_csv(file_path, index_col=0)\n",
    "                if is_saggitto:\n",
    "                    df = df.iloc[:,0:col_len-1]\n",
    "\n",
    "                # 레이블 및 태그 컬럼 추가\n",
    "                df['Label'] = label_idx_dic[label]\n",
    "            \n",
    "                # 리스트에 데이터프레임 추가\n",
    "                all_data.append(df[:1] if use_first_sample_only else df)\n",
    "                # print(f'{filename} {df.shape}')\n",
    "\n",
    "    # 모든 데이터를 하나의 데이터프레임으로 결합\n",
    "    final_df = pd.concat(all_data, ignore_index=False)\n",
    "    # final_df['Label'] = final_df['Label'].astype('category')\n",
    "    final_df.index.name = 'Index'\n",
    "    print(f\"raw_data's shape: {final_df.shape}\")\n",
    "    \n",
    "    return final_df"
   ]
  },
  {
   "cell_type": "markdown",
   "metadata": {},
   "source": [
    "# NeoSpectra 단독 훈련-평가\n",
    "\n",
    "원본: 높은 파장 -> 낮은 파장 순\n",
    "- diff 미사용: (0.946031746031746, 0.02944005871585939)\n",
    "- diff 사용: (0.9936507936507937, 0.007776157913597417)\n",
    "- 기울기 사용: (0.9936507936507937, 0.012698412698412698)\n",
    "\n",
    "flip: 낮은 파장 -> 높은 파장 순\n",
    "- diff 미사용: (0.9619047619047618, 0.02944005871585938)\n",
    "- diff 미사용: (0.9873015873015873, 0.01851095839633431)\n",
    "- 기울기 사용: (0.9904761904761905, 0.012698412698412704)"
   ]
  },
  {
   "cell_type": "code",
   "execution_count": 169,
   "metadata": {},
   "outputs": [],
   "source": [
    "col_len_neospectra = 258"
   ]
  },
  {
   "cell_type": "code",
   "execution_count": 231,
   "metadata": {},
   "outputs": [
    {
     "name": "stdout",
     "output_type": "stream",
     "text": [
      "raw_data's shape: (315, 258)\n"
     ]
    }
   ],
   "source": [
    "df = load_raw_data(neospectra_dir_path, col_len=col_len_neospectra, use_first_sample_only=False)\n",
    "df['x'] = df.iloc[:, 0:col_len_neospectra-1].values.tolist()\n",
    "X = np.array(df['x'].tolist())\n",
    "# X = np.flip(X, axis=1)\n",
    "X_diff = np.diff(X, axis=1)\n",
    "X_relative_gradient = (X[:, 1:] - X[:, :-1]) / X[:, :-1]\n",
    "X_augmented = np.hstack((X, X_relative_gradient))\n",
    "y = df['Label'].values"
   ]
  },
  {
   "cell_type": "code",
   "execution_count": 232,
   "metadata": {},
   "outputs": [
    {
     "data": {
      "text/plain": [
       "((315, 257), (315, 513))"
      ]
     },
     "execution_count": 232,
     "metadata": {},
     "output_type": "execute_result"
    }
   ],
   "source": [
    "X.shape, X_augmented.shape"
   ]
  },
  {
   "cell_type": "code",
   "execution_count": 233,
   "metadata": {},
   "outputs": [
    {
     "name": "stdout",
     "output_type": "stream",
     "text": [
      "Average Accuracy: 0.9876, std: 0.0030\n"
     ]
    }
   ],
   "source": [
    "stats = []\n",
    "for i in range(10):\n",
    "    # StratifiedKFold 설정\n",
    "    skf = StratifiedKFold(n_splits=5, shuffle=True)\n",
    "\n",
    "    # 성능을 저장할 리스트\n",
    "    accuracies = []\n",
    "\n",
    "    X = X_augmented\n",
    "\n",
    "    # 교차 검증 실행\n",
    "    for train_index, test_index in skf.split(X, y):\n",
    "        # 훈련 및 테스트 데이터 나누기\n",
    "        X_train, X_test = X[train_index], X[test_index]\n",
    "        y_train, y_test = y[train_index], y[test_index]\n",
    "        \n",
    "        # 표준 정규화 (각 분할마다 train 데이터에 맞춰 scaler fit)\n",
    "        scaler = StandardScaler()\n",
    "        X_train = scaler.fit_transform(X_train)\n",
    "        X_test = scaler.transform(X_test)\n",
    "        \n",
    "        # XGBoost 모델 정의\n",
    "        model = xgb.XGBClassifier(eval_metric='mlogloss')\n",
    "        \n",
    "        # 모델 학습\n",
    "        model.fit(X_train, y_train)\n",
    "        \n",
    "        # 예측\n",
    "        y_pred = model.predict(X_test)\n",
    "        \n",
    "        # 정확도 측정\n",
    "        accuracy = accuracy_score(y_test, y_pred)\n",
    "        accuracies.append(accuracy)\n",
    "        \n",
    "        # 성능 출력\n",
    "        # print(f\"Fold Accuracy: {accuracy:.4f}\")\n",
    "        # print(classification_report(y_test, y_pred))\n",
    "\n",
    "    # 최종 평균 정확도 출력\n",
    "    # print(f\"Average Accuracy: {np.mean(accuracies):.4f}\")\n",
    "    stats.append(np.mean(accuracies))\n",
    "print(f\"Average Accuracy: {np.mean(stats):.4f}, std: {np.std(stats):.4f}\")"
   ]
  },
  {
   "cell_type": "markdown",
   "metadata": {},
   "source": [
    "-----"
   ]
  },
  {
   "cell_type": "markdown",
   "metadata": {},
   "source": [
    "# Sagitto 단독 훈련-평가\n",
    "\n",
    "원본: 낮은 파장 -> 높은 파장 순\n",
    "- diff 미사용: (0.9540983606557377, 0.02820434513784467)\n",
    "- diff 사용: (0.9573770491803278, 0.032124455643058075)\n",
    "- 기울기 사용: (0.9508196721311475, 0.02073624695192377)"
   ]
  },
  {
   "cell_type": "code",
   "execution_count": 108,
   "metadata": {},
   "outputs": [],
   "source": [
    "col_len_sagitto = 229"
   ]
  },
  {
   "cell_type": "code",
   "execution_count": 213,
   "metadata": {},
   "outputs": [
    {
     "name": "stdout",
     "output_type": "stream",
     "text": [
      "raw_data's shape: (305, 229)\n"
     ]
    }
   ],
   "source": [
    "df = load_raw_data(sagitto_dir_path, col_len=col_len_sagitto, is_saggitto=True, use_first_sample_only=False)\n",
    "df['x'] = df.iloc[:, 0:col_len_sagitto-1].values.tolist()\n",
    "X = np.array(df['x'].tolist())\n",
    "# X = np.flip(X, axis=1)\n",
    "X_diff = np.diff(X, axis=1)\n",
    "X_relative_gradient = (X[:, 1:] - X[:, :-1]) / X[:, :-1]\n",
    "X_augmented = np.hstack((X, X_relative_gradient))\n",
    "y = df['Label'].values"
   ]
  },
  {
   "cell_type": "code",
   "execution_count": 214,
   "metadata": {},
   "outputs": [],
   "source": [
    "# label_encoder = LabelEncoder()\n",
    "# y_encoded = label_encoder.fit_transform(y)"
   ]
  },
  {
   "cell_type": "code",
   "execution_count": 215,
   "metadata": {},
   "outputs": [
    {
     "name": "stdout",
     "output_type": "stream",
     "text": [
      "Average Accuracy: 0.9511, std: 0.0066\n"
     ]
    }
   ],
   "source": [
    "stats = []\n",
    "for i in range(10):\n",
    "    # StratifiedKFold 설정\n",
    "    skf = StratifiedKFold(n_splits=5, shuffle=True)\n",
    "\n",
    "    # 성능을 저장할 리스트\n",
    "    accuracies = []\n",
    "\n",
    "    X = X_augmented\n",
    "\n",
    "    # 교차 검증 실행\n",
    "    for train_index, test_index in skf.split(X, y):\n",
    "        # 훈련 및 테스트 데이터 나누기\n",
    "        X_train, X_test = X[train_index], X[test_index]\n",
    "        y_train, y_test = y[train_index], y[test_index]\n",
    "        \n",
    "        # 표준 정규화 (각 분할마다 train 데이터에 맞춰 scaler fit)\n",
    "        scaler = StandardScaler()\n",
    "        X_train = scaler.fit_transform(X_train)\n",
    "        X_test = scaler.transform(X_test)\n",
    "        \n",
    "        # XGBoost 모델 정의\n",
    "        model = xgb.XGBClassifier(eval_metric='mlogloss')\n",
    "        \n",
    "        # 모델 학습\n",
    "        model.fit(X_train, y_train)\n",
    "        \n",
    "        # 예측\n",
    "        y_pred = model.predict(X_test)\n",
    "        \n",
    "        # 정확도 측정\n",
    "        accuracy = accuracy_score(y_test, y_pred)\n",
    "        accuracies.append(accuracy)\n",
    "        \n",
    "        # 성능 출력\n",
    "        # print(f\"Fold Accuracy: {accuracy:.4f}\")\n",
    "        # print(classification_report(y_test, y_pred))\n",
    "\n",
    "    # 최종 평균 정확도 출력\n",
    "    # print(f\"Average Accuracy: {np.mean(accuracies):.4f}\")\n",
    "    stats.append(np.mean(accuracies))\n",
    "print(f\"Average Accuracy: {np.mean(stats):.4f}, std: {np.std(stats):.4f}\")"
   ]
  },
  {
   "cell_type": "markdown",
   "metadata": {},
   "source": [
    "# 결합 훈련 평가: 보류 (*)\n",
    "\n",
    "왜?\n",
    "- NeoSpectra와 Sagitto의 각 폴더의 csv 에 있는 인덱스가 동일한 것인지 확인 필요\n",
    "- Sagitto의 Li 폴더의 일부 CSV 에는 인덱스가 CO로 시작하는 것이 있는데 확인 필요 (예: Sagitto/LI/LI_AC_Y.csv)"
   ]
  },
  {
   "cell_type": "markdown",
   "metadata": {},
   "source": [
    "결합시: 296건씩 일치"
   ]
  },
  {
   "cell_type": "code",
   "execution_count": null,
   "metadata": {},
   "outputs": [],
   "source": [
    "df_neospectra = load_raw_data(neospectra_dir_path, col_len=col_len_neospectra)\n",
    "df_neospectra['x'] = df_neospectra.iloc[:, 0:col_len_neospectra-1].values.tolist()\n",
    "# X = np.array(df['x'].tolist())\n",
    "# y = df['Label'].values"
   ]
  },
  {
   "cell_type": "code",
   "execution_count": null,
   "metadata": {},
   "outputs": [],
   "source": [
    "df_saggito = load_raw_data(sagitto_dir_path, col_len=col_len_sagitto, is_saggitto=True)\n",
    "df_saggito['x'] = df_saggito.iloc[:, 0:col_len_sagitto-1].values.tolist()"
   ]
  },
  {
   "cell_type": "code",
   "execution_count": null,
   "metadata": {},
   "outputs": [],
   "source": [
    "df = pd.merge(df_neospectra[['x', 'Label']], df_saggito[['x', 'Label']], left_index=True, right_index=True)\n",
    "df.shape"
   ]
  },
  {
   "cell_type": "code",
   "execution_count": null,
   "metadata": {},
   "outputs": [],
   "source": [
    "df[(df.Label_x != df.Label_y)]"
   ]
  },
  {
   "cell_type": "code",
   "execution_count": null,
   "metadata": {},
   "outputs": [],
   "source": [
    "df_saggito.loc['CO_AC_Y_5']"
   ]
  },
  {
   "cell_type": "markdown",
   "metadata": {},
   "source": []
  }
 ],
 "metadata": {
  "kernelspec": {
   "display_name": "base",
   "language": "python",
   "name": "python3"
  },
  "language_info": {
   "codemirror_mode": {
    "name": "ipython",
    "version": 3
   },
   "file_extension": ".py",
   "mimetype": "text/x-python",
   "name": "python",
   "nbconvert_exporter": "python",
   "pygments_lexer": "ipython3",
   "version": "3.10.14"
  }
 },
 "nbformat": 4,
 "nbformat_minor": 2
}
